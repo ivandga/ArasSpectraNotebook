import astropy.utils.data as aua
import astropy.io.fits as aif
from urllib.request import urlopen
from bs4 import BeautifulSoup
