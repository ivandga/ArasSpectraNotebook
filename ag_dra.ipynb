{
 "cells": [
  {
   "cell_type": "markdown",
   "metadata": {},
   "source": [
    "#### AAVSO Lightcurve for AG DRa\n",
    "https://www.aavso.org/LCGv2/index.htm?DateFormat=Calendar&RequestedBands=V,R,I,B&view=api.delim&ident=agdra&fromjd=2457894&tojd=2458504.578&delimiter=@@@\n",
    "\n",
    "#### Link to ARAS page \n",
    "http://www.astrosurf.com/aras/Aras_DataBase/Symbiotics/AGDra.htm"
   ]
  },
  {
   "cell_type": "markdown",
   "metadata": {},
   "source": [
    "_Importing modules and stuff_"
   ]
  },
  {
   "cell_type": "code",
   "execution_count": null,
   "metadata": {},
   "outputs": [],
   "source": [
    "import astropy.utils.data as aua\n",
    "import astropy.io.fits as aif\n",
    "import astropy.constants as const\n",
    "import matplotlib.pyplot as pl\n",
    "from urllib.request import urlopen\n",
    "from bs4 import BeautifulSoup\n",
    "import numpy as np\n",
    "import scipy as sp\n",
    "from scipy.signal import savgol_filter\n",
    "import os\n",
    "import pickle"
   ]
  },
  {
   "cell_type": "markdown",
   "metadata": {},
   "source": [
    "_Define Object ARAS Website link and requirements for spectra_"
   ]
  },
  {
   "cell_type": "code",
   "execution_count": null,
   "metadata": {},
   "outputs": [],
   "source": [
    "rootsite = \"http://www.astrosurf.com/aras/Aras_DataBase/Symbiotics/\"\n",
    "topic = \"AGDra.htm\"\n",
    "minimal_resolution = 8000\n",
    "minimal_wavelength_range = 2000"
   ]
  },
  {
   "cell_type": "markdown",
   "metadata": {},
   "source": [
    "_Scraping the page of the object of interest, looking for .fit files_"
   ]
  },
  {
   "cell_type": "code",
   "execution_count": null,
   "metadata": {},
   "outputs": [],
   "source": [
    "rootsite = \"http://www.astrosurf.com/aras/Aras_DataBase/Symbiotics/\"\n",
    "topic = \"AGDra.htm\"\n",
    "site = \"{}/{}\".format(rootsite, topic)\n",
    "soup = BeautifulSoup(urlopen(site), \"html\")\n",
    "spectra_list = []\n",
    "for link in soup.findAll('a'):\n",
    "    linkhref = link.get('href')\n",
    "    if \".fit\" in linkhref:\n",
    "        if \"http\" not in linkhref:\n",
    "            spectra_list.append(rootsite+linkhref)\n",
    "        else:\n",
    "            spectra_list.append(linkhref)"
   ]
  },
  {
   "cell_type": "markdown",
   "metadata": {},
   "source": [
    "_Download each fit and save it into pickle file if resolution and wavelength range requirements are respected. If a pickle dump file is already existing in the current directory, nothing will be downloaded and the data will be loaded in memory_"
   ]
  },
  {
   "cell_type": "code",
   "execution_count": null,
   "metadata": {},
   "outputs": [],
   "source": [
    "pickle_file = 'ag_dra.dump.pckl'\n",
    "if not os.path.isfile(pickle_file):\n",
    "    data = []\n",
    "    for link in spectra_list:\n",
    "        hdul = aif.open(aua.download_file(link))\n",
    "        hdr = hdul[0].header\n",
    "        # calculate resolution of spectrum\n",
    "        resolution = hdr['CRVAL1']/hdr['CDELT1']\n",
    "        if resolution >= minimal_resolution:\n",
    "            # derivate wavelength array            \n",
    "            wavelengths = hdr['CDELT1']*np.arange(hdr['NAXIS1']) + hdr['CRVAL1']\n",
    "            wavelength_range = wavelengths[-1] - wavelengths[0]\n",
    "            if wavelength_range >= minimal_wavelength_range:\n",
    "                spectrum = hdul[0].data\n",
    "                data.append({\"w\" : wavelengths, \"f\" : spectrum, \n",
    "                             \"do\" : hdr['DATE-OBS'], \"hdr\" : hdr})\n",
    "                print(\"Saving {}\".format(link.split(\"/\")[-1]))\n",
    "                \n",
    "    print(\"Saving {} spectra in total\".format(len(data)))\n",
    "    with open(pickle_file, 'wb') as output:\n",
    "        pickle.dump(data, output)\n",
    "elif os.path.isfile(pickle_file):\n",
    "    data = []\n",
    "    print(\"Pickle dump {} found\".format(pickle_file))\n",
    "    data = pickle.load(open(pickle_file, \"rb\"))\n",
    "    print(\"Loaded {} spectra\".format(len(data)))\n",
    "else:\n",
    "    print(\"eh what do you want??\")"
   ]
  },
  {
   "cell_type": "markdown",
   "metadata": {},
   "source": [
    "_Some helpful methods_\n",
    "\n",
    "**calculate_velocity**: returns the velocity array (in km/s) with respect to a specific wavlength _wl_\n",
    "\n",
    "**linelabel**: simple text output with a specific wavelength _wl_\n",
    "\n",
    "**plot_line**: plots the normalised flux (normalised with respect to the maximum flux of the dataset) from a dataset (specified with the index _i_ with the respect to the data structure) against the velocity array, centered on a specific wavelength _wl_; _dobs_ and _labwl_ specificy if the label of the plotted curve will show the data of the observation and/or the wavelength; _alpha_ (0,1) specifies the transparency of the curve; _factor_ rescales the curve."
   ]
  },
  {
   "cell_type": "code",
   "execution_count": null,
   "metadata": {},
   "outputs": [],
   "source": [
    "def calculate_velocity(wave, wavelength):\n",
    "    return 1e-3*const.c*(wave - wavelength)/wavelength\n",
    "\n",
    "def linelabel(wl):\n",
    "    return \"{:.1f} $\\AA$\".format(wl)\n",
    "\n",
    "def plot_line(i, wl, dobs=False, labwl=False, alpha=1, factor=1):\n",
    "    vel = calculate_velocity(data[i][\"w\"], wl)\n",
    "    if dobs:\n",
    "        label_for_line = \"#{} - {}\".format(i, data[i][\"do\"])\n",
    "    if labwl:\n",
    "        label_for_line = \"#{} - {}\".format(i, linelabel(wl))\n",
    "    if labwl and dobs:\n",
    "        label_for_line = \"#{} - {} - {}\".format(i, linelabel(wl), data[i][\"do\"])\n",
    "    flux = data[i][\"f\"]/max(data[i][\"f\"])\n",
    "    pl.plot(vel, flux*factor, label = label_for_line, alpha=alpha)"
   ]
  },
  {
   "cell_type": "code",
   "execution_count": null,
   "metadata": {},
   "outputs": [],
   "source": [
    "fig = pl.figure(1, figsize = (15, 7))\n",
    "\n",
    "w_hbeta = 4861.\n",
    "plot_line(73, w_hbeta, dobs=True)\n",
    "plot_line(79, w_hbeta, dobs=True)\n",
    "plot_line(85, w_hbeta, dobs=True)\n",
    "\n",
    "pl.xlim(-2000, 2000)\n",
    "pl.xlabel('vrad (km/s) ')\n",
    "pl.ylim(0, 0.5)\n",
    "pl.ylabel('flux (a.u)')\n",
    "pl.legend()"
   ]
  },
  {
   "cell_type": "code",
   "execution_count": null,
   "metadata": {},
   "outputs": [],
   "source": [
    "fig = pl.figure(2, figsize = (15, 7))\n",
    "\n",
    "i_obs = 67\n",
    "plot_line(i_obs, 4861., labwl=True)\n",
    "plot_line(i_obs, 5015., labwl=True)\n",
    "plot_line(i_obs, 5875, labwl=True)\n",
    "\n",
    "pl.xlim(-2000, 2000)\n",
    "pl.xlabel('vrad (km/s) ')\n",
    "pl.ylim(0, 0.5)\n",
    "pl.ylabel('flux (a.u)')\n",
    "pl.legend()"
   ]
  },
  {
   "cell_type": "code",
   "execution_count": null,
   "metadata": {},
   "outputs": [],
   "source": [
    "# Convert the notebook to script\n",
    "!jupyter nbconvert --to script ag_dra.ipynb"
   ]
  }
 ],
 "metadata": {
  "kernelspec": {
   "display_name": "Python 3",
   "language": "python",
   "name": "python3"
  },
  "language_info": {
   "codemirror_mode": {
    "name": "ipython",
    "version": 3
   },
   "file_extension": ".py",
   "mimetype": "text/x-python",
   "name": "python",
   "nbconvert_exporter": "python",
   "pygments_lexer": "ipython3",
   "version": "3.6.7"
  }
 },
 "nbformat": 4,
 "nbformat_minor": 2
}
