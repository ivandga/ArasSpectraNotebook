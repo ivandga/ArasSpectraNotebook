{
 "cells": [
  {
   "cell_type": "markdown",
   "metadata": {},
   "source": [
    "#### AAVSO Lightcurve for AG DRa\n",
    "https://www.aavso.org/LCGv2/index.htm?DateFormat=Calendar&RequestedBands=V,R,I,B&view=api.delim&ident=agdra&fromjd=2457894&tojd=2458504.578&delimiter=@@@\n",
    "\n",
    "#### Link to ARAS page \n",
    "http://www.astrosurf.com/aras/Aras_DataBase/Symbiotics/AGDra.htm"
   ]
  },
  {
   "cell_type": "markdown",
   "metadata": {},
   "source": [
    "_Importing modules and stuff_"
   ]
  },
  {
   "cell_type": "code",
   "execution_count": 1,
   "metadata": {},
   "outputs": [],
   "source": [
    "import astropy.utils.data as aua\n",
    "import astropy.io.fits as aif\n",
    "import astropy.constants as const\n",
    "import matplotlib.pyplot as pl\n",
    "from urllib.request import urlopen\n",
    "from bs4 import BeautifulSoup\n",
    "import numpy as np\n",
    "import scipy as sp\n",
    "from scipy.signal import savgol_filter\n",
    "import os\n",
    "import pickle"
   ]
  },
  {
   "cell_type": "markdown",
   "metadata": {},
   "source": [
    "_Define Object ARAS Website link and requirements for spectra_"
   ]
  },
  {
   "cell_type": "code",
   "execution_count": 2,
   "metadata": {},
   "outputs": [],
   "source": [
    "rootsite = \"http://www.astrosurf.com/aras/Aras_DataBase/Symbiotics/\"\n",
    "topic = \"AGDra.htm\"\n",
    "minimal_resolution = 8000\n",
    "minimal_wavelength_range = 2000"
   ]
  },
  {
   "cell_type": "markdown",
   "metadata": {},
   "source": [
    "_Scraping the page of the object of interest, looking for .fit files_"
   ]
  },
  {
   "cell_type": "code",
   "execution_count": 3,
   "metadata": {},
   "outputs": [],
   "source": [
    "rootsite = \"http://www.astrosurf.com/aras/Aras_DataBase/Symbiotics/\"\n",
    "topic = \"AGDra.htm\"\n",
    "site = \"{}/{}\".format(rootsite, topic)\n",
    "soup = BeautifulSoup(urlopen(site), \"html\")\n",
    "spectra_list = []\n",
    "for link in soup.findAll('a'):\n",
    "    linkhref = link.get('href')\n",
    "    if \".fit\" in linkhref:\n",
    "        if \"http\" not in linkhref:\n",
    "            spectra_list.append(rootsite+linkhref)\n",
    "        else:\n",
    "            spectra_list.append(linkhref)"
   ]
  }
 ],
 "metadata": {
  "kernelspec": {
   "display_name": "Python 3",
   "language": "python",
   "name": "python3"
  },
  "language_info": {
   "codemirror_mode": {
    "name": "ipython",
    "version": 3
   },
   "file_extension": ".py",
   "mimetype": "text/x-python",
   "name": "python",
   "nbconvert_exporter": "python",
   "pygments_lexer": "ipython3",
   "version": "3.6.7"
  }
 },
 "nbformat": 4,
 "nbformat_minor": 2
}
