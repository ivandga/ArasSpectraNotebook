{
 "cells": [
  {
   "cell_type": "markdown",
   "metadata": {},
   "source": [
    "#### AAVSO Lightcurve for AG DRa\n",
    "https://www.aavso.org/LCGv2/index.htm?DateFormat=Calendar&RequestedBands=V,R,I,B&view=api.delim&ident=agdra&fromjd=2457894&tojd=2458504.578&delimiter=@@@\n",
    "\n",
    "#### Link to ARAS page \n",
    "http://www.astrosurf.com/aras/Aras_DataBase/Symbiotics/AGDra.htm"
   ]
  },
  {
   "cell_type": "markdown",
   "metadata": {},
   "source": [
    "_Importing modules and stuff_"
   ]
  },
  {
   "cell_type": "code",
   "execution_count": null,
   "metadata": {},
   "outputs": [],
   "source": [
    "import os\n",
    "import pickle\n",
    "from urllib.request import urlopen\n",
    "\n",
    "import astropy.constants as const\n",
    "import astropy.io.fits as aif\n",
    "import astropy.utils.data as aua\n",
    "import matplotlib.pyplot as pl\n",
    "import numpy as np\n",
    "import scipy as sp\n",
    "from bs4 import BeautifulSoup"
   ]
  },
  {
   "cell_type": "markdown",
   "metadata": {},
   "source": [
    "_Define Object ARAS Website link and requirements for spectra._"
   ]
  },
  {
   "cell_type": "code",
   "execution_count": null,
   "metadata": {},
   "outputs": [],
   "source": [
    "rootsite = \"http://www.astrosurf.com/aras/Aras_DataBase/Symbiotics/\"\n",
    "topic = \"AGDra.htm\"\n",
    "minimal_resolution = 15000\n",
    "minimal_wavelength_range = 2000\n",
    "spectra_list_dump = \"ag_dra.spectra_list.pckl\"\n",
    "spectra_data_dump = \"ag_dra.data_dump.pckl\""
   ]
  },
  {
   "cell_type": "markdown",
   "metadata": {},
   "source": [
    "_Method to scrap the ARAS page of the object of interest, looking for .fit files.\n",
    "It returns a list with the .fit files addresses._"
   ]
  },
  {
   "cell_type": "code",
   "execution_count": null,
   "metadata": {},
   "outputs": [],
   "source": [
    "def download_list_spectra(rootsite, startname):\n",
    "    site = \"{}{}\".format(rootsite, topic)\n",
    "    print(\"Target site: {}\".format(site))\n",
    "    soup = BeautifulSoup(urlopen(site), \"html\")\n",
    "    spectra_list = []\n",
    "    for link in soup.findAll(\"a\"):\n",
    "        linkhref = link.get(\"href\")\n",
    "        if \".fit\" in linkhref:\n",
    "            spectrum_link = rootsite + linkhref if \"http\" not in linkhref else linkhref\n",
    "            spectra_list.append(spectrum_link)\n",
    "    print(\"Found {} .fit files\".format(len(spectra_list)))\n",
    "    return spectra_list"
   ]
  },
  {
   "cell_type": "markdown",
   "metadata": {},
   "source": [
    "_Download each fit and save it into pickle file if resolution and wavelength range requirements are respected. If a pickle dump file is already existing in the current directory, nothing will be downloaded and the data will be loaded in memory_"
   ]
  },
  {
   "cell_type": "code",
   "execution_count": null,
   "metadata": {},
   "outputs": [],
   "source": [
    "spectra_list = download_list_spectra(rootsite, topic)\n",
    "if not os.path.isfile(spectra_list_dump):\n",
    "    print(\"Writing spectra list in file\")\n",
    "    with open(spectra_list_dump, \"wb\") as output:\n",
    "        pickle.dump(spectra_list, output)\n",
    "else:\n",
    "    spectra_list_from_dump = pickle.load(open(spectra_list_dump, \"rb\"))\n",
    "    if len(set(spectra_list)) > len(set(spectra_list_from_dump)):\n",
    "        print(\"Updating spectra list in file\")\n",
    "        with open(spectra_list_dump, \"wb\") as output:\n",
    "            pickle.dump(spectra_list, output)"
   ]
  },
  {
   "cell_type": "markdown",
   "metadata": {},
   "source": [
    "_If no pickle data dump is found, each spectrum from the .fit list will be downloaded and exported to a data structure (data) if the resolution and wavelength range requirements are respected. The data structure will be then saved to file. If a pickle dump file is already existing in the current directory, nothing will be downloaded and the data will be loaded from the file in memory._"
   ]
  },
  {
   "cell_type": "code",
   "execution_count": null,
   "metadata": {},
   "outputs": [],
   "source": [
    "if not os.path.isfile(spectra_data_dump):\n",
    "    print(\"No dump file found, downloading spectra...\")\n",
    "    data = []\n",
    "    for link in spectra_list:\n",
    "        try:\n",
    "            hdul = aif.open(aua.download_file(link))\n",
    "            hdr = hdul[0].header\n",
    "            spectrum = hdul[0].data\n",
    "        except:\n",
    "            print(\"Broken file/link? {}\".format(link))\n",
    "            continue\n",
    "        # calculate resolution of spectrum\n",
    "        resolution = hdr[\"CRVAL1\"] / hdr[\"CDELT1\"]\n",
    "        if resolution >= minimal_resolution:\n",
    "            # derivate wavelength array\n",
    "            wavelengths = hdr[\"CDELT1\"] * np.arange(hdr[\"NAXIS1\"]) + hdr[\"CRVAL1\"]\n",
    "            wavelength_range = wavelengths[-1] - wavelengths[0]\n",
    "            if wavelength_range >= minimal_wavelength_range:\n",
    "                data.append(\n",
    "                    {\"w\": wavelengths, \"f\": spectrum, \"do\": hdr[\"DATE-OBS\"], \"hdr\": hdr}\n",
    "                )\n",
    "                print(\"Saving {}\".format(link.split(\"/\")[-1]))\n",
    "\n",
    "    print(\"Saving {} spectra in total\".format(len(data)))\n",
    "    with open(spectra_data_dump, \"wb\") as output:\n",
    "        pickle.dump(data, output)\n",
    "elif os.path.isfile(spectra_data_dump):\n",
    "    print(\"Pickle dump {} found\".format(spectra_data_dump))\n",
    "    data = pickle.load(open(spectra_data_dump, \"rb\"))\n",
    "    print(\"Loaded {} spectra\".format(len(data)))"
   ]
  },
  {
   "cell_type": "markdown",
   "metadata": {},
   "source": [
    "_Some helpful methods_\n",
    "\n",
    "**calculate_velocity**: returns the velocity array (in km/s) with respect to a specific wavlength _wl_\n",
    "\n",
    "**linelabel**: simple text output with a specific wavelength _wl_\n",
    "\n",
    "**plot_line**: plots the normalised flux (normalised with respect to the maximum flux of the dataset) from a dataset (specified with the index _i_ with the respect to the data structure) against the velocity array, centered on a specific wavelength _wl_; _dobs_ and _labwl_ specificy if the label of the plotted curve will show the data of the observation and/or the wavelength; _alpha_ (0,1) specifies the transparency of the curve; _factor_ rescales the curve."
   ]
  },
  {
   "cell_type": "code",
   "execution_count": null,
   "metadata": {},
   "outputs": [],
   "source": [
    "def calculate_velocity(wave, wavelength):\n",
    "    return 1e-3 * const.c * (wave - wavelength) / wavelength\n",
    "\n",
    "\n",
    "def linelabel(wl):\n",
    "    return \"{:.1f} $\\AA$\".format(wl)\n",
    "\n",
    "\n",
    "def plot_line(i, wl, dobs=False, labwl=False, alpha=1, factor=1):\n",
    "    vel = calculate_velocity(data[i][\"w\"], wl)\n",
    "    if dobs:\n",
    "        label_for_line = \"#{} - {}\".format(i, data[i][\"do\"])\n",
    "    if labwl:\n",
    "        label_for_line = \"#{} - {}\".format(i, linelabel(wl))\n",
    "    if labwl and dobs:\n",
    "        label_for_line = \"#{} - {} - {}\".format(i, linelabel(wl), data[i][\"do\"])\n",
    "    flux = data[i][\"f\"] / max(data[i][\"f\"])\n",
    "    pl.plot(vel, flux * factor, label=label_for_line, alpha=alpha)\n",
    "\n",
    "\n",
    "def normfluxvel(i, wl, vel1, vel2):\n",
    "    vel = calculate_velocity(data[i][\"w\"], wl)\n",
    "    velmask = (vel > vel1) & (vel < vel2)"
   ]
  },
  {
   "cell_type": "markdown",
   "metadata": {},
   "source": [
    "#### Plot same line from different observations"
   ]
  },
  {
   "cell_type": "code",
   "execution_count": null,
   "metadata": {},
   "outputs": [],
   "source": [
    "fig = pl.figure(1, figsize=(15, 7))\n",
    "\n",
    "w_hbeta = 4861.0\n",
    "plot_line(73, w_hbeta, dobs=True)\n",
    "plot_line(79, w_hbeta, dobs=True)\n",
    "plot_line(85, w_hbeta, dobs=True)\n",
    "\n",
    "pl.xlim(-2000, 2000)\n",
    "pl.xlabel(\"vrad (km/s) \")\n",
    "pl.ylim(0, 0.5)\n",
    "pl.ylabel(\"flux (a.u)\")\n",
    "pl.legend()"
   ]
  },
  {
   "cell_type": "markdown",
   "metadata": {},
   "source": [
    "#### Plot several lines from same observations"
   ]
  },
  {
   "cell_type": "code",
   "execution_count": null,
   "metadata": {},
   "outputs": [],
   "source": [
    "fig = pl.figure(2, figsize=(15, 7))\n",
    "\n",
    "i_obs = 67\n",
    "plot_line(i_obs, 4861.0, labwl=True)\n",
    "plot_line(i_obs, 5015.0, labwl=True)\n",
    "plot_line(i_obs, 5875, labwl=True)\n",
    "\n",
    "pl.xlim(-2000, 2000)\n",
    "pl.xlabel(\"vrad (km/s) \")\n",
    "pl.ylim(0, 0.5)\n",
    "pl.ylabel(\"flux (a.u)\")\n",
    "pl.legend()"
   ]
  }
 ],
 "metadata": {
  "kernelspec": {
   "display_name": "Python 3",
   "language": "python",
   "name": "python3"
  },
  "language_info": {
   "codemirror_mode": {
    "name": "ipython",
    "version": 3
   },
   "file_extension": ".py",
   "mimetype": "text/x-python",
   "name": "python",
   "nbconvert_exporter": "python",
   "pygments_lexer": "ipython3",
   "version": "3.7.3"
  }
 },
 "nbformat": 4,
 "nbformat_minor": 2
}
