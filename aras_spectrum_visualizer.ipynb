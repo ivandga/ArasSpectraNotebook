{
 "cells": [
  {
   "cell_type": "markdown",
   "metadata": {},
   "source": [
    "#### Link to ARAS Database \n",
    "http://www.astrosurf.com/aras/Aras_DataBase/DataBase.htm"
   ]
  },
  {
   "cell_type": "markdown",
   "metadata": {},
   "source": [
    "_Importing modules and stuff_"
   ]
  },
  {
   "cell_type": "code",
   "execution_count": 1,
   "metadata": {},
   "outputs": [],
   "source": [
    "import astropy.utils.data as aua\n",
    "import astropy.io.fits as aif\n",
    "import astropy.constants as const\n",
    "import plotly\n",
    "import matplotlib.pyplot as pl\n",
    "from urllib.request import urlopen\n",
    "from bs4 import BeautifulSoup\n",
    "import numpy as np\n",
    "import scipy as sp\n",
    "import os\n",
    "import pickle"
   ]
  },
  {
   "cell_type": "code",
   "execution_count": 2,
   "metadata": {},
   "outputs": [],
   "source": [
    "def download_spectrum(link):\n",
    "    try:\n",
    "        hdul = aif.open(aua.download_file(link))\n",
    "        hdr = hdul[0].header\n",
    "        spectrum = hdul[0].data\n",
    "    except:\n",
    "        print(\"Broken file/link? {}\".format(link))\n",
    "    # calculate resolution of spectrum\n",
    "    resolution = hdr['CRVAL1']/hdr['CDELT1']\n",
    "    wavelengths = hdr['CDELT1']*np.arange(hdr['NAXIS1']) + hdr['CRVAL1']\n",
    "    wavelength_range = wavelengths[-1] - wavelengths[0]\n",
    "    data = {\"w\" : wavelengths, \"f\" : spectrum, \n",
    "            \"date\" : hdr['DATE-OBS'], \"hdr\" : hdr}\n",
    "    return data"
   ]
  },
  {
   "cell_type": "markdown",
   "metadata": {},
   "source": [
    "_Define Object ARAS Website link and requirements for spectra._"
   ]
  },
  {
   "cell_type": "code",
   "execution_count": 3,
   "metadata": {},
   "outputs": [
    {
     "name": "stdout",
     "output_type": "stream",
     "text": [
      "{'w': array([3710.75966176, 3712.05116176, 3713.34266176, ..., 7292.08916176,\n",
      "       7293.38066176, 7294.67216176]), 'f': array([0.15858218, 0.14295365, 0.15982904, ..., 1.0333956 , 1.0317265 ,\n",
      "       0.917077  ], dtype=float32), 'date': '2019-07-06T04:21:14', 'hdr': SIMPLE  =                    T / File does conform to FITS standard             \n",
      "BITPIX  =                  -32 / Number of bits per data pixel                  \n",
      "NAXIS   =                    1 / Number of data axes                            \n",
      "NAXIS1  =                 2776 / Length of data axis 1                          \n",
      "CRVAL1  =      3710.7596617635 / Coordinate at reference pixel                  \n",
      "CDELT1  =               1.2915 / Coordinate increment                           \n",
      "VERSION = 'ISIS V5.9.6'        / Software version                               \n",
      "OBJNAME = 'AG Dra  '           / Current name of the object                     \n",
      "DATE-OBS= '2019-07-06T04:21:14' / Date of observation start                     \n",
      "EXPTIME =                 2182 / [s] Total time of exposure                     \n",
      "EXPTIME2= '9 x 240 s'          / Exposure decomposition                         \n",
      "BSS_INST= 'CDK14 LISA Atik414ex' / Instrument                                   \n",
      "BSS_SITE= 'Desert Celestial Observatory' / Observation site                     \n",
      "BSS_ITRP=                 1048 / Typical resolving power                        \n",
      "OBSERVER= 'Forrest Sims'                                                        \n",
      "CUNIT1  = 'Angstrom'           / Wavelength unit                                \n",
      "CTYPE1  = 'Wavelength'         / Axis type                                      \n",
      "Q_CAL   = '0       '           / Quality flag 4-excellent                       \n",
      "CRPIX1  =                    1 / Reference pixel                                \n",
      "BSS_VHEL=                    0 / [km/s] Heliocentric speed                      \n",
      "BSS_COSM= 'Removed '                                                            \n",
      "BSS_TELL= 'None    '                                                            \n",
      "BSS_NORM= 'None    '                                                            \n",
      "SPE_RPOW=                 1048 / Spectral resolution power                      \n",
      "JD-OBS  =         2458670.6814 / JD start observation                           \n",
      "JD-MID  =          2458670.694 / JD mid observation                             \n",
      "JD-HEL  =                    0 / JD heliocentric mid-obs                        \n",
      "GEO_LONG=           111.802777 / Obs. geographic longitude                      \n",
      "GEO_LAT =           33.3672222 / Obs. geographic latitude                       \n",
      "GEO_ELEV=                  380 / Obs. geographic elevation                      }\n"
     ]
    }
   ],
   "source": [
    "link_spectrum = \"http://www.astrosurf.com/aras/Aras_DataBase/Symbiotics/FitFiles/asdb_agdra_20190706_181.fit\"\n",
    "data = download_spectrum(link_spectrum)\n",
    "print(data)"
   ]
  },
  {
   "cell_type": "markdown",
   "metadata": {},
   "source": [
    "_Method to scrap the ARAS page of the object of interest, looking for .fit files.\n",
    "It returns a list with the .fit files addresses._"
   ]
  },
  {
   "cell_type": "markdown",
   "metadata": {},
   "source": [
    "_Some helpful methods_\n",
    "\n",
    "**calculate_velocity**: returns the velocity array (in km/s) with respect to a specific wavlength _wl_\n",
    "\n",
    "**linelabel**: simple text output with a specific wavelength _wl_\n",
    "\n",
    "**plot_line**: plots the normalised flux (normalised with respect to the maximum flux of the dataset) from a dataset (specified with the index _i_ with the respect to the data structure) against the velocity array, centered on a specific wavelength _wl_; _dobs_ and _labwl_ specificy if the label of the plotted curve will show the data of the observation and/or the wavelength; _alpha_ (0,1) specifies the transparency of the curve; _factor_ rescales the curve."
   ]
  },
  {
   "cell_type": "code",
   "execution_count": 4,
   "metadata": {
    "scrolled": true
   },
   "outputs": [],
   "source": [
    "def calculate_velocity(wave, wavelength):\n",
    "    return 1e-3*const.c*(wave - wavelength)/wavelength\n",
    "\n",
    "def linelabel(wl):\n",
    "    return \"{:.1f} $\\AA$\".format(wl)\n",
    "\n",
    "def plot_line(i, wl, dobs=False, labwl=False, alpha=1, factor=1):\n",
    "    vel = calculate_velocity(data[i][\"w\"], wl)\n",
    "    if dobs:\n",
    "        label_for_line = \"#{} - {}\".format(i, data[i][\"do\"])\n",
    "    if labwl:\n",
    "        label_for_line = \"#{} - {}\".format(i, linelabel(wl))\n",
    "    if labwl and dobs:\n",
    "        label_for_line = \"#{} - {} - {}\".format(i, linelabel(wl), data[i][\"do\"])\n",
    "    flux = data[i][\"f\"]/max(data[i][\"f\"])\n",
    "    pl.plot(vel, flux*factor, label = label_for_line, alpha=alpha)\n",
    "    \n",
    "def normfluxvel(i, wl, vel1, vel2):\n",
    "    vel = calculate_velocity(data[i][\"w\"], wl)\n",
    "    velmask = (vel > vel1) & (vel < vel2)"
   ]
  }
 ],
 "metadata": {
  "kernelspec": {
   "display_name": "Python 3",
   "language": "python",
   "name": "python3"
  },
  "language_info": {
   "codemirror_mode": {
    "name": "ipython",
    "version": 3
   },
   "file_extension": ".py",
   "mimetype": "text/x-python",
   "name": "python",
   "nbconvert_exporter": "python",
   "pygments_lexer": "ipython3",
   "version": "3.7.3"
  }
 },
 "nbformat": 4,
 "nbformat_minor": 2
}
