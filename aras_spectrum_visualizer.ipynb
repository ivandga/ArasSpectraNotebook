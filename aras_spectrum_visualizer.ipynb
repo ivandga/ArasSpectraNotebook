{
 "cells": [
  {
   "cell_type": "markdown",
   "metadata": {},
   "source": [
    "## _Link to ARAS Database_\n",
    "http://www.astrosurf.com/aras/Aras_DataBase/DataBase.htm"
   ]
  },
  {
   "cell_type": "markdown",
   "metadata": {},
   "source": [
    "_Importing modules and stuff_"
   ]
  },
  {
   "cell_type": "code",
   "execution_count": null,
   "metadata": {},
   "outputs": [],
   "source": [
    "import astropy.constants as const\n",
    "import astropy.io.fits as aif\n",
    "import astropy.utils.data as aua\n",
    "import matplotlib.pyplot as pl\n",
    "import numpy as np\n",
    "import scipy as sp"
   ]
  },
  {
   "cell_type": "markdown",
   "metadata": {},
   "source": [
    "_This method downloads the spectrum data, it takes the .fit file URL as parameter._"
   ]
  },
  {
   "cell_type": "code",
   "execution_count": null,
   "metadata": {},
   "outputs": [],
   "source": [
    "def download_spectrum(link):\n",
    "    try:\n",
    "        hdul = aif.open(aua.download_file(link))\n",
    "        hdr = hdul[0].header\n",
    "        spectrum = hdul[0].data\n",
    "    except:\n",
    "        print(\"Broken file/link? {}\".format(link))\n",
    "    # calculate resolution of spectrum\n",
    "    resolution = hdr[\"CRVAL1\"] / hdr[\"CDELT1\"]\n",
    "    wavelengths = hdr[\"CDELT1\"] * np.arange(hdr[\"NAXIS1\"]) + hdr[\"CRVAL1\"]\n",
    "    wavelength_range = wavelengths[-1] - wavelengths[0]\n",
    "    data = {\"w\": wavelengths, \"f\": spectrum, \"date\": hdr[\"DATE-OBS\"], \"hdr\": hdr}\n",
    "    return data"
   ]
  },
  {
   "cell_type": "markdown",
   "metadata": {},
   "source": [
    "_Some helpful methods_\n",
    "\n",
    "**calculate_velocity**: returns the velocity array (in km/s) with respect to a specific wavlength _wl_\n",
    "\n",
    "**linelabel**: simple text output with a specific wavelength _wl_\n",
    "\n",
    "**plot_line**: plots the normalised flux (normalised with respect to the maximum flux of the dataset) from a dataset (specified with the index _i_ with the respect to the data structure) against the velocity array, centered on a specific wavelength _wl_; _dobs_ and _labwl_ specificy if the label of the plotted curve will show the data of the observation and/or the wavelength; _alpha_ (0,1) specifies the transparency of the curve; _factor_ rescales the curve."
   ]
  },
  {
   "cell_type": "code",
   "execution_count": null,
   "metadata": {},
   "outputs": [],
   "source": [
    "def calculate_velocity(wave, wavelength):\n",
    "    return 1e-3 * const.c * (wave - wavelength) / wavelength\n",
    "\n",
    "\n",
    "def linelabel(wl):\n",
    "    return \"{:.1f} $\\AA$\".format(wl)\n",
    "\n",
    "\n",
    "def plot_line(i, wl, dobs=False, labwl=False, alpha=1, factor=1):\n",
    "    vel = calculate_velocity(data[i][\"w\"], wl)\n",
    "    if dobs:\n",
    "        label_for_line = \"#{} - {}\".format(i, data[i][\"do\"])\n",
    "    if labwl:\n",
    "        label_for_line = \"#{} - {}\".format(i, linelabel(wl))\n",
    "    if labwl and dobs:\n",
    "        label_for_line = \"#{} - {} - {}\".format(i, linelabel(wl), data[i][\"do\"])\n",
    "    flux = data[i][\"f\"] / max(data[i][\"f\"])\n",
    "    pl.plot(vel, flux * factor, label=label_for_line, alpha=alpha)\n",
    "\n",
    "\n",
    "def normfluxvel(i, wl, vel1, vel2):\n",
    "    vel = calculate_velocity(data[i][\"w\"], wl)\n",
    "    velmask = (vel > vel1) & (vel < vel2)"
   ]
  },
  {
   "cell_type": "markdown",
   "metadata": {},
   "source": [
    "## _Define Object ARAS Website link and downloads the data_"
   ]
  },
  {
   "cell_type": "code",
   "execution_count": null,
   "metadata": {},
   "outputs": [],
   "source": [
    "link_spectrum = \"http://www.astrosurf.com/aras/Aras_DataBase/Symbiotics/FitFiles/asdb_agdra_20190706_181.fit\"\n",
    "data = download_spectrum(link_spectrum)\n",
    "print(data)"
   ]
  },
  {
   "cell_type": "code",
   "execution_count": null,
   "metadata": {},
   "outputs": [],
   "source": []
  },
  {
   "cell_type": "markdown",
   "metadata": {},
   "source": [
    "### Define wavelength interval"
   ]
  },
  {
   "cell_type": "code",
   "execution_count": null,
   "metadata": {},
   "outputs": [],
   "source": [
    "xmin = data[\"w\"].min()  # or a number\n",
    "xmax = data[\"w\"].max()  # or a number"
   ]
  },
  {
   "cell_type": "markdown",
   "metadata": {},
   "source": [
    "_Plotting the stuff_"
   ]
  },
  {
   "cell_type": "code",
   "execution_count": null,
   "metadata": {},
   "outputs": [],
   "source": [
    "pl.figure(0, figsize=(13, 7))\n",
    "pl.xlabel(\"Wavelength [A]\")\n",
    "pl.ylabel(\"Flux (a.u.)\")\n",
    "pl.title(\n",
    "    \"{} - {} - Observer: {}\".format(\n",
    "        data[\"hdr\"][\"OBJNAME\"], data[\"date\"], data[\"hdr\"][\"OBSERVER\"]\n",
    "    )\n",
    ")\n",
    "pl.xlim(xmin, xmax)\n",
    "pl.plot(data[\"w\"], data[\"f\"])"
   ]
  }
 ],
 "metadata": {
  "kernelspec": {
   "display_name": "Python 3",
   "language": "python",
   "name": "python3"
  },
  "language_info": {
   "codemirror_mode": {
    "name": "ipython",
    "version": 3
   },
   "file_extension": ".py",
   "mimetype": "text/x-python",
   "name": "python",
   "nbconvert_exporter": "python",
   "pygments_lexer": "ipython3",
   "version": "3.7.3"
  }
 },
 "nbformat": 4,
 "nbformat_minor": 2
}
