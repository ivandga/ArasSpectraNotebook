{
 "cells": [
  {
   "cell_type": "markdown",
   "metadata": {},
   "source": [
    "## _Link to ARAS Database_\n",
    "http://www.astrosurf.com/aras/Aras_DataBase/DataBase.htm"
   ]
  },
  {
   "cell_type": "markdown",
   "metadata": {},
   "source": [
    "_Importing modules and stuff_"
   ]
  },
  {
   "cell_type": "code",
   "execution_count": 1,
   "metadata": {},
   "outputs": [],
   "source": [
    "import astropy.utils.data as aua\n",
    "import astropy.io.fits as aif\n",
    "import astropy.constants as const\n",
    "import matplotlib.pyplot as pl\n",
    "import numpy as np\n",
    "import scipy as sp"
   ]
  },
  {
   "cell_type": "markdown",
   "metadata": {},
   "source": [
    "_This method downloads the spectrum data, it takes the .fit file URL as parameter._"
   ]
  },
  {
   "cell_type": "code",
   "execution_count": 2,
   "metadata": {},
   "outputs": [],
   "source": [
    "def download_spectrum(link):\n",
    "    try:\n",
    "        hdul = aif.open(aua.download_file(link))\n",
    "        hdr = hdul[0].header\n",
    "        spectrum = hdul[0].data\n",
    "    except:\n",
    "        print(\"Broken file/link? {}\".format(link))\n",
    "    # calculate resolution of spectrum\n",
    "    resolution = hdr['CRVAL1']/hdr['CDELT1']\n",
    "    wavelengths = hdr['CDELT1']*np.arange(hdr['NAXIS1']) + hdr['CRVAL1']\n",
    "    wavelength_range = wavelengths[-1] - wavelengths[0]\n",
    "    data = {\"w\" : wavelengths, \"f\" : spectrum, \n",
    "            \"date\" : hdr['DATE-OBS'], \"hdr\" : hdr}\n",
    "    return data"
   ]
  },
  {
   "cell_type": "markdown",
   "metadata": {},
   "source": [
    "## _Define Object ARAS Website link and downloads the data_"
   ]
  },
  {
   "cell_type": "code",
   "execution_count": 3,
   "metadata": {},
   "outputs": [
    {
     "name": "stdout",
     "output_type": "stream",
     "text": [
      "{'w': array([3710.75966176, 3712.05116176, 3713.34266176, ..., 7292.08916176,\n",
      "       7293.38066176, 7294.67216176]), 'f': array([0.15858218, 0.14295365, 0.15982904, ..., 1.0333956 , 1.0317265 ,\n",
      "       0.917077  ], dtype=float32), 'date': '2019-07-06T04:21:14', 'hdr': SIMPLE  =                    T / File does conform to FITS standard             \n",
      "BITPIX  =                  -32 / Number of bits per data pixel                  \n",
      "NAXIS   =                    1 / Number of data axes                            \n",
      "NAXIS1  =                 2776 / Length of data axis 1                          \n",
      "CRVAL1  =      3710.7596617635 / Coordinate at reference pixel                  \n",
      "CDELT1  =               1.2915 / Coordinate increment                           \n",
      "VERSION = 'ISIS V5.9.6'        / Software version                               \n",
      "OBJNAME = 'AG Dra  '           / Current name of the object                     \n",
      "DATE-OBS= '2019-07-06T04:21:14' / Date of observation start                     \n",
      "EXPTIME =                 2182 / [s] Total time of exposure                     \n",
      "EXPTIME2= '9 x 240 s'          / Exposure decomposition                         \n",
      "BSS_INST= 'CDK14 LISA Atik414ex' / Instrument                                   \n",
      "BSS_SITE= 'Desert Celestial Observatory' / Observation site                     \n",
      "BSS_ITRP=                 1048 / Typical resolving power                        \n",
      "OBSERVER= 'Forrest Sims'                                                        \n",
      "CUNIT1  = 'Angstrom'           / Wavelength unit                                \n",
      "CTYPE1  = 'Wavelength'         / Axis type                                      \n",
      "Q_CAL   = '0       '           / Quality flag 4-excellent                       \n",
      "CRPIX1  =                    1 / Reference pixel                                \n",
      "BSS_VHEL=                    0 / [km/s] Heliocentric speed                      \n",
      "BSS_COSM= 'Removed '                                                            \n",
      "BSS_TELL= 'None    '                                                            \n",
      "BSS_NORM= 'None    '                                                            \n",
      "SPE_RPOW=                 1048 / Spectral resolution power                      \n",
      "JD-OBS  =         2458670.6814 / JD start observation                           \n",
      "JD-MID  =          2458670.694 / JD mid observation                             \n",
      "JD-HEL  =                    0 / JD heliocentric mid-obs                        \n",
      "GEO_LONG=           111.802777 / Obs. geographic longitude                      \n",
      "GEO_LAT =           33.3672222 / Obs. geographic latitude                       \n",
      "GEO_ELEV=                  380 / Obs. geographic elevation                      }\n"
     ]
    }
   ],
   "source": [
    "link_spectrum = \"http://www.astrosurf.com/aras/Aras_DataBase/Symbiotics/FitFiles/asdb_agdra_20190706_181.fit\"\n",
    "data = download_spectrum(link_spectrum)\n",
    "print(data)"
   ]
  }
 ],
 "metadata": {
  "kernelspec": {
   "display_name": "Python 3",
   "language": "python",
   "name": "python3"
  },
  "language_info": {
   "codemirror_mode": {
    "name": "ipython",
    "version": 3
   },
   "file_extension": ".py",
   "mimetype": "text/x-python",
   "name": "python",
   "nbconvert_exporter": "python",
   "pygments_lexer": "ipython3",
   "version": "3.7.3"
  }
 },
 "nbformat": 4,
 "nbformat_minor": 2
}
